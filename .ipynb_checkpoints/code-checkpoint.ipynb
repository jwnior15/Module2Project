{
 "cells": [
  {
   "cell_type": "code",
   "execution_count": null,
   "id": "c7e597d6-550e-4f11-bba8-5ecf43d77632",
   "metadata": {},
   "outputs": [],
   "source": []
  },
  {
   "cell_type": "code",
   "execution_count": null,
   "id": "effa3b24-55ab-4245-828c-9227b2ffbe90",
   "metadata": {},
   "outputs": [],
   "source": []
  },
  {
   "cell_type": "code",
   "execution_count": 2,
   "id": "96c04ebf-5bf8-4759-b4e1-c167f17db117",
   "metadata": {},
   "outputs": [],
   "source": [
    "# Importar dependencias\n",
    "# La librería JSON permite abrir y guardar archivos en formato JSON\n",
    "import json\n",
    "# Sklearn cuenta con una herramienta para dividir un dataset\n",
    "# en un subconjunto de entrenamiento y un subconjunto de evaluación\n",
    "# Ambos, son importantes para el trabajo con aprendizaje automatico\n",
    "from sklearn.model_selection import train_test_split\n",
    "# os es una librería propia de Python que permite precesar archivos\n",
    "import os\n",
    "import subprocess\n",
    "import zipfile\n",
    "# La librería TQDM permite integrar barras de progreso en estructuras repetitivas for\n",
    "from tqdm.auto import tqdm\n",
    "# La librería shutil tiene implementaciones optimizadas para trabajar con archivos\n",
    "import shutil\n",
    "# La librería random permite crear números aleatorios\n",
    "import random\n",
    "# La librería OpenCV contiene funciones y algoritmos para procesar imágenes y video\n",
    "import cv2\n",
    "import pandas as pd\n",
    "from matplotlib import pyplot as plt\n",
    "import kaggle"
   ]
  },
  {
   "cell_type": "code",
   "execution_count": 3,
   "id": "14265532-2e64-4967-bbd5-cf05dccadba9",
   "metadata": {},
   "outputs": [],
   "source": [
    "# Comprobar si el conjunto de datos ya se ha descargado\n",
    "if not os.path.exists('./dataset'):\n",
    "  # Crear una nueva carpeta\n",
    "  os.makedirs('dataset')\n",
    "else:\n",
    "  # Reemplazar carpeta previamente descargada\n",
    "  !del dataset\n",
    "  os.makedirs('dataset')"
   ]
  },
  {
   "cell_type": "code",
   "execution_count": null,
   "id": "7d238740-9ad2-4f52-ac4b-054ee8703196",
   "metadata": {},
   "outputs": [],
   "source": [
    "# Descargar un dataset desde Kaggle\n",
    "!kaggle datasets download -d tawsifurrahman/covid19-radiography-database/ -p dataset/covid_19_radiography"
   ]
  },
  {
   "cell_type": "code",
   "execution_count": null,
   "id": "486e7f61-443b-4685-b2e6-4c1f593975b3",
   "metadata": {},
   "outputs": [],
   "source": [
    "# Comprobar si el conjunto de datos ya se ha descargado\n",
    "if not os.path.exists('./dataset'):\n",
    "  # Crear una nueva carpeta\n",
    "  os.makedirs('dataset')\n",
    "else:\n",
    "  # Reemplazar carpeta previamente descargada\n",
    "  !del dataset\n",
    "  os.makedirs('dataset')\n",
    "\n",
    "# Descargar un dataset desde Kaggle\n",
    "!kaggle datasets download -d tawsifurrahman/covid19-radiography-database/ -p dataset/covid_19_radiography\n",
    "\n",
    "# Descomprimir dataset\n",
    "!unzip -qn './dataset/archive.zip' -d /content/city_problems > /dev/null\n",
    "!del ./dataset/archive.zip"
   ]
  },
  {
   "cell_type": "code",
   "execution_count": null,
   "id": "70056614-1da2-41a5-8480-974bacd2697b",
   "metadata": {},
   "outputs": [],
   "source": [
    "# Descomprimir dataset\n",
    "!unzip -qn './dataset/archive.zip' -d /content/city_problems > /dev/null\n",
    "!del ./dataset/archive.zip"
   ]
  },
  {
   "cell_type": "code",
   "execution_count": null,
   "id": "e960f4ff-53f6-4979-b09c-e1a7a26bcba2",
   "metadata": {},
   "outputs": [],
   "source": []
  },
  {
   "cell_type": "code",
   "execution_count": null,
   "id": "e400034c-e2f2-4066-964f-490b57331a8a",
   "metadata": {},
   "outputs": [],
   "source": []
  },
  {
   "cell_type": "code",
   "execution_count": null,
   "id": "400b0a59-727c-4acd-ab78-4b85432a3693",
   "metadata": {},
   "outputs": [],
   "source": []
  },
  {
   "cell_type": "code",
   "execution_count": null,
   "id": "4f6e12de-2fd5-47c1-8bf6-85324529b0f2",
   "metadata": {},
   "outputs": [],
   "source": []
  }
 ],
 "metadata": {
  "kernelspec": {
   "display_name": "Python 3 (ipykernel)",
   "language": "python",
   "name": "python3"
  },
  "language_info": {
   "codemirror_mode": {
    "name": "ipython",
    "version": 3
   },
   "file_extension": ".py",
   "mimetype": "text/x-python",
   "name": "python",
   "nbconvert_exporter": "python",
   "pygments_lexer": "ipython3",
   "version": "3.10.13"
  }
 },
 "nbformat": 4,
 "nbformat_minor": 5
}
