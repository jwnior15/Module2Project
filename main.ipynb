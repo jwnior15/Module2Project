{
 "cells": [
  {
   "cell_type": "code",
   "execution_count": null,
   "id": "c7e597d6-550e-4f11-bba8-5ecf43d77632",
   "metadata": {},
   "outputs": [],
   "source": []
  },
  {
   "cell_type": "code",
   "execution_count": null,
   "id": "effa3b24-55ab-4245-828c-9227b2ffbe90",
   "metadata": {},
   "outputs": [],
   "source": []
  },
  {
   "cell_type": "code",
   "execution_count": 2,
   "id": "96c04ebf-5bf8-4759-b4e1-c167f17db117",
   "metadata": {},
   "outputs": [],
   "source": [
    "# Importar dependencias\n",
    "# La librería JSON permite abrir y guardar archivos en formato JSON\n",
    "import json\n",
    "# Sklearn cuenta con una herramienta para dividir un dataset\n",
    "# en un subconjunto de entrenamiento y un subconjunto de evaluación\n",
    "# Ambos, son importantes para el trabajo con aprendizaje automatico\n",
    "from sklearn.model_selection import train_test_split\n",
    "# os es una librería propia de Python que permite precesar archivos\n",
    "import os\n",
    "import subprocess\n",
    "import zipfile\n",
    "# La librería TQDM permite integrar barras de progreso en estructuras repetitivas for\n",
    "from tqdm.auto import tqdm\n",
    "# La librería shutil tiene implementaciones optimizadas para trabajar con archivos\n",
    "import shutil\n",
    "# La librería random permite crear números aleatorios\n",
    "import random\n",
    "# La librería OpenCV contiene funciones y algoritmos para procesar imágenes y video\n",
    "import cv2\n",
    "import pandas as pd\n",
    "from matplotlib import pyplot as plt\n",
    "import kaggle\n"
   ]
  },
  {
   "cell_type": "code",
   "execution_count": 20,
   "id": "b1552c1f-18ce-4d2c-bee6-462323434506",
   "metadata": {},
   "outputs": [
    {
     "name": "stdout",
     "output_type": "stream",
     "text": [
      "Note: you may need to restart the kernel to use updated packages.\n"
     ]
    }
   ],
   "source": [
    "# Revisar librerías instaladas en PIP y guardarlas en el archivo requirements.txt: pip freeze > requirements.txt\n",
    "# Instalar librerías desde un archivo requirements.txt: pip install -R requirements.txt\n",
    "pip freeze > requirements.txt"
   ]
  },
  {
   "cell_type": "code",
   "execution_count": 3,
   "id": "14265532-2e64-4967-bbd5-cf05dccadba9",
   "metadata": {},
   "outputs": [],
   "source": [
    "# Comprobar si el conjunto de datos ya se ha descargado\n",
    "if not os.path.exists('./dataset'):\n",
    "  # Crear una nueva carpeta\n",
    "  os.makedirs('dataset')\n",
    "else:\n",
    "  # Reemplazar carpeta previamente descargada\n",
    "  !del dataset\n",
    "  os.makedirs('dataset')"
   ]
  },
  {
   "cell_type": "code",
   "execution_count": 5,
   "id": "7d238740-9ad2-4f52-ac4b-054ee8703196",
   "metadata": {},
   "outputs": [
    {
     "name": "stdout",
     "output_type": "stream",
     "text": [
      "Downloading covid19-radiography-database.zip to dataset/covid_19_radiography\n",
      "\n"
     ]
    },
    {
     "name": "stderr",
     "output_type": "stream",
     "text": [
      "\n",
      "  0%|          | 0.00/778M [00:00<?, ?B/s]\n",
      "  0%|          | 1.00M/778M [00:00<07:19, 1.85MB/s]\n",
      "  0%|          | 3.00M/778M [00:00<03:57, 3.43MB/s]\n",
      "  1%|          | 5.00M/778M [00:01<02:47, 4.83MB/s]\n",
      "  1%|          | 6.00M/778M [00:01<02:41, 5.01MB/s]\n",
      "  1%|1         | 8.00M/778M [00:01<01:49, 7.40MB/s]\n",
      "  1%|1         | 10.0M/778M [00:01<02:07, 6.30MB/s]\n",
      "  2%|1         | 14.0M/778M [00:02<01:12, 11.1MB/s]\n",
      "  2%|2         | 16.0M/778M [00:02<01:12, 11.0MB/s]\n",
      "  2%|2         | 18.0M/778M [00:02<01:11, 11.1MB/s]\n",
      "  3%|2         | 20.0M/778M [00:02<01:21, 9.73MB/s]\n",
      "  3%|2         | 22.0M/778M [00:02<01:10, 11.3MB/s]\n",
      "  3%|3         | 24.0M/778M [00:03<01:12, 10.9MB/s]\n",
      "  3%|3         | 26.0M/778M [00:03<01:12, 10.9MB/s]\n",
      "  4%|3         | 28.0M/778M [00:03<01:13, 10.8MB/s]\n",
      "  4%|3         | 30.0M/778M [00:03<01:17, 10.1MB/s]\n",
      "  4%|4         | 32.0M/778M [00:03<01:13, 10.7MB/s]\n",
      "  4%|4         | 34.0M/778M [00:04<01:36, 8.09MB/s]\n",
      "  5%|4         | 38.0M/778M [00:04<01:32, 8.36MB/s]\n",
      "  6%|5         | 43.0M/778M [00:04<01:04, 11.9MB/s]\n",
      "  6%|5         | 45.0M/778M [00:05<01:26, 8.92MB/s]\n",
      "  6%|6         | 47.0M/778M [00:05<01:16, 10.0MB/s]\n",
      "  6%|6         | 50.0M/778M [00:05<01:06, 11.5MB/s]\n",
      "  7%|6         | 52.0M/778M [00:06<01:24, 8.99MB/s]\n",
      "  7%|7         | 56.0M/778M [00:06<01:03, 11.9MB/s]\n",
      "  7%|7         | 58.0M/778M [00:06<01:14, 10.2MB/s]\n",
      "  8%|7         | 61.0M/778M [00:06<01:04, 11.6MB/s]\n",
      "  8%|8         | 63.0M/778M [00:07<01:05, 11.5MB/s]\n",
      "  8%|8         | 65.0M/778M [00:07<01:06, 11.2MB/s]\n",
      "  9%|8         | 67.0M/778M [00:07<01:08, 10.9MB/s]\n",
      "  9%|8         | 69.0M/778M [00:07<01:07, 11.0MB/s]\n",
      "  9%|9         | 71.0M/778M [00:07<01:10, 10.6MB/s]\n",
      "  9%|9         | 73.0M/778M [00:07<01:07, 11.0MB/s]\n",
      " 10%|9         | 75.0M/778M [00:08<01:08, 10.8MB/s]\n",
      " 10%|9         | 77.0M/778M [00:08<01:09, 10.6MB/s]\n",
      " 10%|#         | 79.0M/778M [00:08<01:08, 10.7MB/s]\n",
      " 10%|#         | 81.0M/778M [00:08<01:08, 10.7MB/s]\n",
      " 11%|#         | 83.0M/778M [00:08<01:08, 10.7MB/s]\n",
      " 11%|#         | 85.0M/778M [00:09<01:38, 7.40MB/s]\n",
      " 11%|#1        | 89.0M/778M [00:09<01:03, 11.4MB/s]\n",
      " 12%|#1        | 91.0M/778M [00:09<01:06, 10.8MB/s]\n",
      " 12%|#1        | 93.0M/778M [00:10<01:26, 8.29MB/s]\n",
      " 12%|#2        | 97.0M/778M [00:10<01:02, 11.4MB/s]\n",
      " 13%|#2        | 99.0M/778M [00:10<01:06, 10.7MB/s]\n",
      " 13%|#2        | 101M/778M [00:11<01:17, 9.11MB/s] \n",
      " 13%|#3        | 104M/778M [00:11<01:05, 10.8MB/s]\n",
      " 14%|#3        | 106M/778M [00:11<01:14, 9.41MB/s]\n",
      " 14%|#4        | 109M/778M [00:11<01:03, 11.0MB/s]\n",
      " 14%|#4        | 111M/778M [00:11<01:03, 11.0MB/s]\n",
      " 15%|#4        | 113M/778M [00:12<01:07, 10.4MB/s]\n",
      " 15%|#4        | 115M/778M [00:12<01:06, 10.5MB/s]\n",
      " 15%|#5        | 117M/778M [00:12<01:03, 10.9MB/s]\n",
      " 15%|#5        | 119M/778M [00:12<01:03, 10.9MB/s]\n",
      " 16%|#5        | 121M/778M [00:12<01:04, 10.7MB/s]\n",
      " 16%|#5        | 123M/778M [00:13<01:03, 10.8MB/s]\n",
      " 16%|#6        | 125M/778M [00:13<01:03, 10.7MB/s]\n",
      " 16%|#6        | 127M/778M [00:13<01:04, 10.6MB/s]\n",
      " 17%|#6        | 129M/778M [00:13<01:03, 10.7MB/s]\n",
      " 17%|#6        | 131M/778M [00:13<01:04, 10.4MB/s]\n",
      " 17%|#7        | 133M/778M [00:14<01:03, 10.7MB/s]\n",
      " 17%|#7        | 135M/778M [00:14<01:26, 7.77MB/s]\n",
      " 18%|#7        | 139M/778M [00:14<00:59, 11.2MB/s]\n",
      " 18%|#8        | 141M/778M [00:14<00:59, 11.3MB/s]\n",
      " 18%|#8        | 143M/778M [00:15<01:04, 10.4MB/s]\n",
      " 19%|#8        | 145M/778M [00:15<01:03, 10.4MB/s]\n",
      " 19%|#8        | 147M/778M [00:15<01:03, 10.5MB/s]\n",
      " 19%|#9        | 149M/778M [00:15<01:26, 7.60MB/s]\n",
      " 20%|#9        | 153M/778M [00:16<00:57, 11.3MB/s]\n",
      " 20%|#9        | 155M/778M [00:16<00:57, 11.3MB/s]\n",
      " 20%|##        | 157M/778M [00:16<01:03, 10.2MB/s]\n",
      " 20%|##        | 159M/778M [00:16<01:04, 10.1MB/s]\n",
      " 21%|##        | 161M/778M [00:16<01:02, 10.4MB/s]\n",
      " 21%|##        | 163M/778M [00:17<01:01, 10.4MB/s]\n",
      " 21%|##1       | 165M/778M [00:17<01:00, 10.6MB/s]\n",
      " 21%|##1       | 167M/778M [00:17<01:00, 10.6MB/s]\n",
      " 22%|##1       | 169M/778M [00:18<01:21, 7.81MB/s]\n",
      " 22%|##2       | 173M/778M [00:18<00:57, 11.0MB/s]\n",
      " 22%|##2       | 175M/778M [00:18<00:55, 11.3MB/s]\n",
      " 23%|##2       | 177M/778M [00:18<00:55, 11.3MB/s]\n",
      " 23%|##3       | 179M/778M [00:18<00:56, 11.1MB/s]\n",
      " 23%|##3       | 181M/778M [00:18<00:57, 10.8MB/s]\n",
      " 24%|##3       | 183M/778M [00:19<00:58, 10.7MB/s]\n",
      " 24%|##3       | 185M/778M [00:19<00:57, 10.8MB/s]\n",
      " 24%|##4       | 187M/778M [00:19<00:59, 10.4MB/s]\n",
      " 24%|##4       | 189M/778M [00:19<00:57, 10.8MB/s]\n",
      " 25%|##4       | 191M/778M [00:20<01:12, 8.51MB/s]\n",
      " 25%|##4       | 193M/778M [00:20<00:59, 10.3MB/s]\n",
      " 25%|##5       | 195M/778M [00:20<00:56, 10.8MB/s]\n",
      " 25%|##5       | 197M/778M [00:20<00:56, 10.7MB/s]\n",
      " 26%|##5       | 199M/778M [00:20<00:57, 10.5MB/s]\n",
      " 26%|##5       | 201M/778M [00:21<00:58, 10.4MB/s]\n",
      " 26%|##6       | 203M/778M [00:21<00:59, 10.1MB/s]\n",
      " 26%|##6       | 205M/778M [00:21<00:55, 10.8MB/s]\n",
      " 27%|##6       | 207M/778M [00:21<00:55, 10.7MB/s]\n",
      " 27%|##6       | 209M/778M [00:21<00:59, 10.1MB/s]\n",
      " 27%|##6       | 210M/778M [00:21<01:01, 9.66MB/s]\n",
      " 27%|##7       | 211M/778M [00:22<01:03, 9.35MB/s]\n",
      " 27%|##7       | 213M/778M [00:22<00:54, 10.9MB/s]\n",
      " 28%|##7       | 215M/778M [00:22<00:58, 10.1MB/s]\n",
      " 28%|##7       | 216M/778M [00:22<00:59, 9.85MB/s]\n",
      " 28%|##8       | 218M/778M [00:22<00:54, 10.8MB/s]\n",
      " 28%|##8       | 220M/778M [00:22<00:53, 10.9MB/s]\n",
      " 29%|##8       | 222M/778M [00:23<00:54, 10.7MB/s]\n",
      " 29%|##8       | 224M/778M [00:23<00:55, 10.5MB/s]\n",
      " 29%|##9       | 226M/778M [00:23<00:53, 10.9MB/s]\n",
      " 29%|##9       | 228M/778M [00:23<00:53, 10.7MB/s]\n",
      " 30%|##9       | 230M/778M [00:23<00:54, 10.5MB/s]\n",
      " 30%|##9       | 232M/778M [00:24<00:53, 10.6MB/s]\n",
      " 30%|###       | 234M/778M [00:24<00:53, 10.7MB/s]\n",
      " 30%|###       | 236M/778M [00:24<00:55, 10.3MB/s]\n",
      " 31%|###       | 238M/778M [00:25<01:19, 7.14MB/s]\n",
      " 31%|###1      | 242M/778M [00:25<00:49, 11.3MB/s]\n",
      " 31%|###1      | 244M/778M [00:25<00:50, 11.1MB/s]\n",
      " 32%|###1      | 246M/778M [00:25<00:50, 11.0MB/s]\n",
      " 32%|###1      | 248M/778M [00:25<00:51, 10.8MB/s]\n",
      " 32%|###2      | 250M/778M [00:26<00:58, 9.51MB/s]\n",
      " 32%|###2      | 252M/778M [00:26<00:50, 10.9MB/s]\n",
      " 33%|###2      | 254M/778M [00:26<00:49, 11.0MB/s]\n",
      " 33%|###2      | 256M/778M [00:26<00:49, 11.0MB/s]\n",
      " 33%|###3      | 258M/778M [00:26<00:53, 10.3MB/s]\n",
      " 33%|###3      | 260M/778M [00:27<01:04, 8.42MB/s]\n",
      " 34%|###3      | 263M/778M [00:27<00:55, 9.70MB/s]\n",
      " 34%|###4      | 265M/778M [00:27<00:51, 10.6MB/s]\n",
      " 34%|###4      | 267M/778M [00:27<00:52, 10.2MB/s]\n",
      " 35%|###4      | 269M/778M [00:27<00:50, 10.6MB/s]\n",
      " 35%|###4      | 271M/778M [00:28<00:50, 10.5MB/s]\n",
      " 35%|###5      | 273M/778M [00:28<00:50, 10.5MB/s]\n",
      " 35%|###5      | 275M/778M [00:28<00:50, 10.5MB/s]\n",
      " 36%|###5      | 277M/778M [00:28<00:49, 10.7MB/s]\n",
      " 36%|###5      | 279M/778M [00:28<00:49, 10.7MB/s]\n",
      " 36%|###6      | 281M/778M [00:29<00:49, 10.5MB/s]\n",
      " 36%|###6      | 283M/778M [00:29<00:49, 10.6MB/s]\n",
      " 37%|###6      | 285M/778M [00:29<00:51, 10.1MB/s]\n",
      " 37%|###6      | 287M/778M [00:29<01:02, 8.23MB/s]\n",
      " 37%|###7      | 290M/778M [00:30<00:47, 10.7MB/s]\n",
      " 38%|###7      | 292M/778M [00:30<01:04, 7.87MB/s]\n",
      " 38%|###8      | 296M/778M [00:30<00:43, 11.7MB/s]\n",
      " 38%|###8      | 298M/778M [00:30<00:44, 11.4MB/s]\n",
      " 39%|###8      | 300M/778M [00:31<00:56, 8.93MB/s]\n",
      " 39%|###8      | 303M/778M [00:31<00:42, 11.6MB/s]\n",
      " 39%|###9      | 305M/778M [00:31<00:44, 11.2MB/s]\n",
      " 39%|###9      | 307M/778M [00:31<00:44, 11.2MB/s]\n",
      " 40%|###9      | 309M/778M [00:31<00:45, 10.9MB/s]\n",
      " 40%|###9      | 311M/778M [00:32<00:44, 11.0MB/s]\n",
      " 40%|####      | 313M/778M [00:32<00:46, 10.4MB/s]\n",
      " 40%|####      | 315M/778M [00:32<00:52, 9.27MB/s]\n",
      " 41%|####      | 316M/778M [00:32<01:03, 7.61MB/s]\n",
      " 41%|####      | 318M/778M [00:33<00:55, 8.72MB/s]\n",
      " 41%|####1     | 321M/778M [00:33<00:42, 11.2MB/s]\n",
      " 42%|####1     | 323M/778M [00:33<00:43, 10.9MB/s]\n",
      " 42%|####1     | 325M/778M [00:33<00:42, 11.1MB/s]\n",
      " 42%|####2     | 327M/778M [00:33<00:43, 10.9MB/s]\n",
      " 42%|####2     | 329M/778M [00:34<00:43, 10.8MB/s]\n",
      " 43%|####2     | 331M/778M [00:34<00:44, 10.5MB/s]\n",
      " 43%|####2     | 333M/778M [00:34<00:43, 10.7MB/s]\n",
      " 43%|####3     | 335M/778M [00:34<00:43, 10.7MB/s]\n",
      " 43%|####3     | 337M/778M [00:34<00:46, 9.96MB/s]\n",
      " 43%|####3     | 338M/778M [00:35<00:59, 7.74MB/s]\n",
      " 44%|####3     | 341M/778M [00:35<00:41, 11.1MB/s]\n",
      " 44%|####4     | 343M/778M [00:35<00:42, 10.7MB/s]\n",
      " 44%|####4     | 345M/778M [00:35<00:45, 10.1MB/s]\n",
      " 45%|####4     | 347M/778M [00:35<00:41, 10.9MB/s]\n",
      " 45%|####4     | 349M/778M [00:36<00:55, 8.04MB/s]\n",
      " 45%|####5     | 353M/778M [00:36<00:38, 11.5MB/s]\n",
      " 46%|####5     | 355M/778M [00:36<00:40, 11.0MB/s]\n",
      " 46%|####5     | 357M/778M [00:36<00:39, 11.2MB/s]\n",
      " 46%|####6     | 359M/778M [00:37<00:39, 11.1MB/s]\n",
      " 46%|####6     | 361M/778M [00:37<00:41, 10.6MB/s]\n",
      " 47%|####6     | 363M/778M [00:37<00:43, 9.92MB/s]\n",
      " 47%|####6     | 365M/778M [00:37<00:38, 11.1MB/s]\n",
      " 47%|####7     | 367M/778M [00:37<00:40, 10.6MB/s]\n",
      " 47%|####7     | 369M/778M [00:38<00:47, 8.94MB/s]\n",
      " 48%|####7     | 371M/778M [00:38<00:43, 9.85MB/s]\n",
      " 48%|####7     | 373M/778M [00:38<00:47, 8.88MB/s]\n",
      " 48%|####8     | 375M/778M [00:38<00:40, 10.6MB/s]\n",
      " 48%|####8     | 377M/778M [00:38<00:39, 10.6MB/s]\n",
      " 49%|####8     | 379M/778M [00:39<00:39, 10.6MB/s]\n",
      " 49%|####8     | 381M/778M [00:39<00:38, 10.7MB/s]\n",
      " 49%|####9     | 383M/778M [00:39<00:38, 10.7MB/s]\n",
      " 49%|####9     | 385M/778M [00:39<00:39, 10.3MB/s]\n",
      " 50%|####9     | 387M/778M [00:40<00:41, 9.87MB/s]\n",
      " 50%|####9     | 388M/778M [00:40<00:41, 9.85MB/s]\n",
      " 50%|####9     | 389M/778M [00:40<00:52, 7.82MB/s]\n",
      " 50%|#####     | 392M/778M [00:40<00:37, 10.8MB/s]\n",
      " 51%|#####     | 394M/778M [00:40<00:36, 10.9MB/s]\n",
      " 51%|#####     | 396M/778M [00:41<00:47, 8.50MB/s]\n",
      " 51%|#####1    | 399M/778M [00:41<00:34, 11.7MB/s]\n",
      " 52%|#####1    | 401M/778M [00:41<00:34, 11.3MB/s]\n",
      " 52%|#####1    | 403M/778M [00:41<00:35, 11.1MB/s]\n",
      " 52%|#####2    | 405M/778M [00:41<00:36, 10.8MB/s]\n",
      " 52%|#####2    | 407M/778M [00:42<00:36, 10.6MB/s]\n",
      " 53%|#####2    | 409M/778M [00:42<00:46, 8.38MB/s]\n",
      " 53%|#####2    | 411M/778M [00:42<00:42, 9.16MB/s]\n",
      " 53%|#####3    | 414M/778M [00:42<00:32, 11.9MB/s]\n",
      " 53%|#####3    | 416M/778M [00:42<00:33, 11.3MB/s]\n",
      " 54%|#####3    | 418M/778M [00:43<00:32, 11.5MB/s]\n",
      " 54%|#####3    | 420M/778M [00:43<00:38, 9.72MB/s]\n",
      " 54%|#####4    | 422M/778M [00:43<00:37, 10.0MB/s]\n",
      " 54%|#####4    | 424M/778M [00:43<00:34, 10.7MB/s]\n",
      " 55%|#####4    | 426M/778M [00:43<00:35, 10.4MB/s]\n",
      " 55%|#####4    | 428M/778M [00:44<00:45, 8.04MB/s]\n",
      " 56%|#####5    | 432M/778M [00:44<00:38, 9.46MB/s]\n",
      " 56%|#####5    | 435M/778M [00:44<00:31, 11.3MB/s]\n",
      " 56%|#####6    | 437M/778M [00:45<00:32, 10.8MB/s]\n",
      " 56%|#####6    | 439M/778M [00:45<00:32, 11.0MB/s]\n",
      " 57%|#####6    | 441M/778M [00:45<00:32, 10.9MB/s]\n",
      " 57%|#####6    | 443M/778M [00:45<00:32, 10.8MB/s]\n",
      " 57%|#####7    | 445M/778M [00:45<00:34, 10.1MB/s]\n",
      " 57%|#####7    | 446M/778M [00:46<00:35, 9.92MB/s]\n",
      " 58%|#####7    | 448M/778M [00:46<00:31, 11.0MB/s]\n",
      " 58%|#####7    | 450M/778M [00:46<00:31, 10.9MB/s]\n",
      " 58%|#####8    | 452M/778M [00:46<00:31, 10.8MB/s]\n",
      " 58%|#####8    | 454M/778M [00:46<00:31, 10.7MB/s]\n",
      " 59%|#####8    | 456M/778M [00:47<00:32, 10.4MB/s]\n",
      " 59%|#####8    | 458M/778M [00:47<00:40, 8.27MB/s]\n",
      " 59%|#####9    | 461M/778M [00:47<00:34, 9.57MB/s]\n",
      " 60%|#####9    | 464M/778M [00:47<00:28, 11.7MB/s]\n",
      " 60%|#####9    | 466M/778M [00:48<00:29, 10.9MB/s]\n",
      " 60%|######    | 468M/778M [00:48<00:29, 11.0MB/s]\n",
      " 60%|######    | 470M/778M [00:48<00:29, 11.1MB/s]\n",
      " 61%|######    | 472M/778M [00:48<00:36, 8.72MB/s]\n",
      " 61%|######    | 474M/778M [00:48<00:33, 9.45MB/s]\n",
      " 61%|######1   | 476M/778M [00:49<00:30, 10.3MB/s]\n",
      " 61%|######1   | 478M/778M [00:49<00:30, 10.4MB/s]\n",
      " 62%|######1   | 480M/778M [00:49<00:30, 10.3MB/s]\n",
      " 62%|######1   | 482M/778M [00:49<00:29, 10.5MB/s]\n",
      " 62%|######2   | 484M/778M [00:49<00:33, 9.19MB/s]\n",
      " 62%|######2   | 485M/778M [00:50<00:33, 9.21MB/s]\n",
      " 63%|######2   | 487M/778M [00:50<00:28, 10.6MB/s]\n",
      " 63%|######2   | 489M/778M [00:50<00:28, 10.6MB/s]\n",
      " 63%|######3   | 491M/778M [00:50<00:28, 10.6MB/s]\n",
      " 63%|######3   | 493M/778M [00:50<00:28, 10.3MB/s]\n",
      " 64%|######3   | 495M/778M [00:51<00:27, 10.6MB/s]\n",
      " 64%|######3   | 497M/778M [00:51<00:28, 10.5MB/s]\n",
      " 64%|######4   | 499M/778M [00:51<00:27, 10.5MB/s]\n",
      " 64%|######4   | 501M/778M [00:51<00:27, 10.6MB/s]\n",
      " 65%|######4   | 503M/778M [00:52<00:35, 8.15MB/s]\n",
      " 65%|######5   | 506M/778M [00:52<00:25, 11.1MB/s]\n",
      " 65%|######5   | 508M/778M [00:52<00:25, 11.0MB/s]\n",
      " 66%|######5   | 510M/778M [00:52<00:27, 10.3MB/s]\n",
      " 66%|######5   | 512M/778M [00:52<00:24, 11.3MB/s]\n",
      " 66%|######6   | 514M/778M [00:52<00:24, 11.1MB/s]\n",
      " 66%|######6   | 516M/778M [00:53<00:25, 10.7MB/s]\n",
      " 67%|######6   | 518M/778M [00:53<00:26, 10.3MB/s]\n",
      " 67%|######6   | 520M/778M [00:53<00:24, 10.9MB/s]\n",
      " 67%|######7   | 522M/778M [00:53<00:32, 8.30MB/s]\n",
      " 67%|######7   | 524M/778M [00:54<00:27, 9.84MB/s]\n",
      " 68%|######7   | 526M/778M [00:54<00:26, 10.0MB/s]\n",
      " 68%|######7   | 528M/778M [00:54<00:24, 10.8MB/s]\n",
      " 68%|######8   | 530M/778M [00:54<00:24, 10.4MB/s]\n",
      " 68%|######8   | 532M/778M [00:54<00:24, 10.7MB/s]\n",
      " 69%|######8   | 534M/778M [00:55<00:25, 10.1MB/s]\n",
      " 69%|######8   | 536M/778M [00:55<00:25, 10.1MB/s]\n",
      " 69%|######9   | 538M/778M [00:55<00:24, 10.4MB/s]\n",
      " 69%|######9   | 540M/778M [00:55<00:24, 10.3MB/s]\n",
      " 70%|######9   | 542M/778M [00:56<00:29, 8.27MB/s]\n",
      " 70%|#######   | 545M/778M [00:56<00:21, 11.2MB/s]\n",
      " 70%|#######   | 547M/778M [00:56<00:21, 11.1MB/s]\n",
      " 71%|#######   | 549M/778M [00:56<00:22, 10.5MB/s]\n",
      " 71%|#######   | 551M/778M [00:56<00:21, 10.9MB/s]\n",
      " 71%|#######1  | 553M/778M [00:56<00:21, 10.8MB/s]\n",
      " 71%|#######1  | 555M/778M [00:57<00:21, 10.6MB/s]\n",
      " 72%|#######1  | 557M/778M [00:57<00:22, 10.5MB/s]\n",
      " 72%|#######1  | 559M/778M [00:57<00:21, 10.6MB/s]\n",
      " 72%|#######2  | 561M/778M [00:57<00:22, 10.3MB/s]\n",
      " 72%|#######2  | 563M/778M [00:57<00:20, 10.8MB/s]\n",
      " 73%|#######2  | 565M/778M [00:58<00:21, 10.5MB/s]\n",
      " 73%|#######2  | 567M/778M [00:58<00:20, 10.8MB/s]\n",
      " 73%|#######3  | 569M/778M [00:58<00:21, 10.3MB/s]\n",
      " 73%|#######3  | 571M/778M [00:58<00:20, 10.6MB/s]\n",
      " 74%|#######3  | 573M/778M [00:58<00:20, 10.5MB/s]\n",
      " 74%|#######3  | 575M/778M [00:59<00:22, 9.34MB/s]\n",
      " 74%|#######4  | 577M/778M [00:59<00:22, 9.31MB/s]\n",
      " 74%|#######4  | 578M/778M [00:59<00:23, 8.83MB/s]\n",
      " 75%|#######4  | 580M/778M [00:59<00:21, 9.60MB/s]\n",
      " 75%|#######4  | 581M/778M [00:59<00:21, 9.72MB/s]\n",
      " 75%|#######4  | 583M/778M [01:00<00:20, 9.99MB/s]\n",
      " 75%|#######5  | 584M/778M [01:00<00:27, 7.31MB/s]\n",
      " 75%|#######5  | 587M/778M [01:00<00:18, 11.1MB/s]\n",
      " 76%|#######5  | 589M/778M [01:00<00:17, 11.1MB/s]\n",
      " 76%|#######5  | 591M/778M [01:00<00:18, 10.6MB/s]\n",
      " 76%|#######6  | 593M/778M [01:01<00:17, 10.8MB/s]\n",
      " 76%|#######6  | 595M/778M [01:01<00:17, 10.8MB/s]\n",
      " 77%|#######6  | 597M/778M [01:01<00:17, 10.7MB/s]\n",
      " 77%|#######6  | 599M/778M [01:01<00:17, 10.6MB/s]\n",
      " 77%|#######7  | 601M/778M [01:01<00:17, 10.4MB/s]\n",
      " 77%|#######7  | 603M/778M [01:02<00:17, 10.5MB/s]\n",
      " 78%|#######7  | 605M/778M [01:02<00:16, 10.7MB/s]\n",
      " 78%|#######7  | 607M/778M [01:02<00:17, 10.5MB/s]\n",
      " 78%|#######8  | 609M/778M [01:02<00:16, 10.6MB/s]\n",
      " 79%|#######8  | 611M/778M [01:02<00:16, 10.6MB/s]\n",
      " 79%|#######8  | 613M/778M [01:03<00:16, 10.6MB/s]\n",
      " 79%|#######9  | 615M/778M [01:03<00:16, 10.4MB/s]\n",
      " 79%|#######9  | 617M/778M [01:03<00:15, 10.7MB/s]\n",
      " 80%|#######9  | 619M/778M [01:03<00:16, 10.3MB/s]\n",
      " 80%|#######9  | 620M/778M [01:03<00:16, 10.0MB/s]\n",
      " 80%|#######9  | 622M/778M [01:03<00:15, 10.8MB/s]\n",
      " 80%|########  | 624M/778M [01:04<00:15, 10.8MB/s]\n",
      " 80%|########  | 626M/778M [01:04<00:17, 9.12MB/s]\n",
      " 81%|########  | 628M/778M [01:04<00:14, 10.8MB/s]\n",
      " 81%|########  | 630M/778M [01:04<00:16, 9.38MB/s]\n",
      " 81%|########1 | 632M/778M [01:05<00:15, 9.90MB/s]\n",
      " 81%|########1 | 634M/778M [01:05<00:14, 10.4MB/s]\n",
      " 82%|########1 | 636M/778M [01:05<00:14, 10.4MB/s]\n",
      " 82%|########1 | 638M/778M [01:05<00:13, 10.6MB/s]\n",
      " 82%|########2 | 640M/778M [01:05<00:13, 10.6MB/s]\n",
      " 82%|########2 | 642M/778M [01:06<00:13, 10.6MB/s]\n",
      " 83%|########2 | 644M/778M [01:06<00:13, 10.6MB/s]\n",
      " 83%|########3 | 646M/778M [01:06<00:13, 10.6MB/s]\n",
      " 83%|########3 | 648M/778M [01:06<00:12, 10.6MB/s]\n",
      " 84%|########3 | 650M/778M [01:06<00:13, 10.3MB/s]\n",
      " 84%|########3 | 651M/778M [01:06<00:13, 10.2MB/s]\n",
      " 84%|########3 | 653M/778M [01:07<00:12, 10.7MB/s]\n",
      " 84%|########4 | 655M/778M [01:07<00:12, 10.7MB/s]\n",
      " 84%|########4 | 657M/778M [01:07<00:11, 10.6MB/s]\n",
      " 85%|########4 | 659M/778M [01:07<00:11, 10.6MB/s]\n",
      " 85%|########4 | 661M/778M [01:08<00:14, 8.28MB/s]\n",
      " 85%|########5 | 663M/778M [01:08<00:13, 9.29MB/s]\n",
      " 86%|########5 | 666M/778M [01:08<00:09, 11.8MB/s]\n",
      " 86%|########5 | 668M/778M [01:08<00:11, 10.4MB/s]\n",
      " 86%|########6 | 670M/778M [01:08<00:09, 11.5MB/s]\n",
      " 86%|########6 | 672M/778M [01:09<00:10, 10.9MB/s]\n",
      " 87%|########6 | 674M/778M [01:09<00:10, 10.3MB/s]\n",
      " 87%|########6 | 676M/778M [01:09<00:11, 9.04MB/s]\n",
      " 87%|########7 | 678M/778M [01:09<00:10, 10.0MB/s]\n",
      " 87%|########7 | 680M/778M [01:09<00:10, 9.76MB/s]\n",
      " 88%|########7 | 681M/778M [01:10<00:10, 9.76MB/s]\n",
      " 88%|########7 | 682M/778M [01:10<00:10, 9.63MB/s]\n",
      " 88%|########7 | 683M/778M [01:10<00:10, 9.54MB/s]\n",
      " 88%|########7 | 684M/778M [01:10<00:10, 9.44MB/s]\n",
      " 88%|########8 | 685M/778M [01:10<00:10, 9.38MB/s]\n",
      " 88%|########8 | 686M/778M [01:10<00:10, 9.32MB/s]\n",
      " 88%|########8 | 687M/778M [01:10<00:09, 9.59MB/s]\n",
      " 89%|########8 | 689M/778M [01:10<00:08, 11.4MB/s]\n",
      " 89%|########8 | 691M/778M [01:11<00:08, 11.1MB/s]\n",
      " 89%|########9 | 693M/778M [01:11<00:08, 10.6MB/s]\n",
      " 89%|########9 | 695M/778M [01:11<00:08, 10.9MB/s]\n",
      " 90%|########9 | 697M/778M [01:11<00:07, 10.8MB/s]\n",
      " 90%|########9 | 699M/778M [01:11<00:07, 10.7MB/s]\n",
      " 90%|######### | 701M/778M [01:12<00:07, 10.5MB/s]\n",
      " 90%|######### | 703M/778M [01:12<00:07, 10.7MB/s]\n",
      " 91%|######### | 705M/778M [01:12<00:07, 10.6MB/s]\n",
      " 91%|######### | 707M/778M [01:12<00:07, 10.5MB/s]\n",
      " 91%|#########1| 709M/778M [01:12<00:06, 10.6MB/s]\n",
      " 91%|#########1| 711M/778M [01:13<00:06, 10.6MB/s]\n",
      " 92%|#########1| 713M/778M [01:13<00:06, 10.6MB/s]\n",
      " 92%|#########1| 715M/778M [01:13<00:06, 10.2MB/s]\n",
      " 92%|#########2| 717M/778M [01:13<00:06, 10.7MB/s]\n",
      " 92%|#########2| 719M/778M [01:14<00:07, 8.11MB/s]\n",
      " 93%|#########2| 723M/778M [01:14<00:05, 11.2MB/s]\n",
      " 93%|#########3| 725M/778M [01:14<00:05, 9.46MB/s]\n",
      " 94%|#########3| 728M/778M [01:14<00:04, 11.4MB/s]\n",
      " 94%|#########3| 730M/778M [01:14<00:04, 10.5MB/s]\n",
      " 94%|#########4| 732M/778M [01:15<00:04, 10.5MB/s]\n",
      " 94%|#########4| 734M/778M [01:15<00:04, 10.6MB/s]\n",
      " 95%|#########4| 736M/778M [01:15<00:04, 10.3MB/s]\n",
      " 95%|#########4| 738M/778M [01:15<00:04, 9.54MB/s]\n",
      " 95%|#########4| 739M/778M [01:16<00:04, 8.80MB/s]\n",
      " 95%|#########5| 741M/778M [01:16<00:04, 9.44MB/s]\n",
      " 95%|#########5| 743M/778M [01:16<00:03, 9.59MB/s]\n",
      " 96%|#########5| 745M/778M [01:16<00:03, 10.1MB/s]\n",
      " 96%|#########5| 746M/778M [01:16<00:03, 8.75MB/s]\n",
      " 96%|#########6| 749M/778M [01:16<00:02, 10.8MB/s]\n",
      " 97%|#########6| 751M/778M [01:17<00:02, 10.2MB/s]\n",
      " 97%|#########6| 753M/778M [01:17<00:02, 11.1MB/s]\n",
      " 97%|#########7| 755M/778M [01:17<00:02, 11.4MB/s]\n",
      " 97%|#########7| 757M/778M [01:17<00:01, 11.2MB/s]\n",
      " 98%|#########7| 759M/778M [01:17<00:01, 10.7MB/s]\n",
      " 98%|#########7| 761M/778M [01:18<00:01, 10.1MB/s]\n",
      " 98%|#########8| 763M/778M [01:18<00:01, 10.7MB/s]\n",
      " 98%|#########8| 765M/778M [01:18<00:01, 10.7MB/s]\n",
      " 99%|#########8| 767M/778M [01:18<00:01, 10.7MB/s]\n",
      " 99%|#########8| 769M/778M [01:18<00:00, 10.3MB/s]\n",
      " 99%|#########9| 771M/778M [01:19<00:00, 10.8MB/s]\n",
      " 99%|#########9| 773M/778M [01:19<00:00, 9.78MB/s]\n",
      "100%|#########9| 775M/778M [01:19<00:00, 10.6MB/s]\n",
      "100%|#########9| 777M/778M [01:19<00:00, 11.1MB/s]\n",
      "100%|##########| 778M/778M [01:19<00:00, 10.0MB/s]\n",
      "100%|##########| 778M/778M [01:19<00:00, 10.2MB/s]\n"
     ]
    }
   ],
   "source": [
    "# Descargar un dataset desde Kaggle\n",
    "!kaggle datasets download -d tawsifurrahman/covid19-radiography-database/ -p dataset/covid_19_radiography"
   ]
  },
  {
   "cell_type": "code",
   "execution_count": 8,
   "id": "37e6bd8c-c06a-4db3-bb27-86ce38b8ebdb",
   "metadata": {},
   "outputs": [],
   "source": [
    "# Ruta del archivo ZIP a descomprimir\n",
    "archivo_zip = './dataset/covid_19_radiography/covid19-radiography-database.zip'\n",
    "\n",
    "# Ruta donde se desea descomprimir el archivo\n",
    "ruta_descomprimida = './dataset/covid_19_radiography/'\n",
    "\n",
    "# Descomprimir el archivo ZIP\n",
    "with zipfile.ZipFile(archivo_zip, 'r') as zip_ref:\n",
    "    zip_ref.extractall(ruta_descomprimida)"
   ]
  },
  {
   "cell_type": "code",
   "execution_count": 9,
   "id": "70056614-1da2-41a5-8480-974bacd2697b",
   "metadata": {},
   "outputs": [],
   "source": [
    "# Eliminar el archivo ZIP\n",
    "os.remove(archivo_zip)"
   ]
  },
  {
   "cell_type": "markdown",
   "id": "5aaa4d77-06c1-4e12-810b-cffafc442b69",
   "metadata": {},
   "source": [
    "## Iniciar Git"
   ]
  },
  {
   "cell_type": "code",
   "execution_count": 10,
   "id": "e400034c-e2f2-4066-964f-490b57331a8a",
   "metadata": {},
   "outputs": [
    {
     "name": "stdout",
     "output_type": "stream",
     "text": [
      "Initialized empty Git repository in C:/Users/USER/OneDrive/MaestrÃ­a/Ciencia de Datos/Modulo2_Fundamentos_de_la_ingenierÃ­a_del_Software/FinalProject/.git/\n"
     ]
    }
   ],
   "source": [
    "!git init"
   ]
  },
  {
   "cell_type": "code",
   "execution_count": 15,
   "id": "cd544433-2803-4ceb-ab3f-1428fe065e26",
   "metadata": {},
   "outputs": [],
   "source": [
    "# Agregaremos un archivo .gitignore para que nos ayude a ignorar la carpeta dataset\n",
    "# la cual debe ser controlada por DVC y no por Git\n",
    "!echo dataset > .gitignore"
   ]
  },
  {
   "cell_type": "code",
   "execution_count": 16,
   "id": "916c93ca-c7e8-457f-ad38-cfafa982c6bf",
   "metadata": {},
   "outputs": [
    {
     "name": "stderr",
     "output_type": "stream",
     "text": [
      "warning: in the working copy of '.ipynb_checkpoints/code-checkpoint.ipynb', LF will be replaced by CRLF the next time Git touches it\n",
      "warning: in the working copy of 'code.ipynb', LF will be replaced by CRLF the next time Git touches it\n"
     ]
    }
   ],
   "source": [
    "!git add ."
   ]
  },
  {
   "cell_type": "code",
   "execution_count": 17,
   "id": "ff44a085-3b44-4332-be2d-fca2bb6d2d55",
   "metadata": {},
   "outputs": [
    {
     "name": "stdout",
     "output_type": "stream",
     "text": [
      "[master (root-commit) 59f0d9c] Inicio del Proyecto\n",
      " 3 files changed, 755 insertions(+)\n",
      " create mode 100644 .gitignore\n",
      " create mode 100644 .ipynb_checkpoints/code-checkpoint.ipynb\n",
      " create mode 100644 code.ipynb\n"
     ]
    }
   ],
   "source": [
    "!git commit -m \"Inicio del Proyecto\""
   ]
  },
  {
   "cell_type": "code",
   "execution_count": 18,
   "id": "d527e8bb-f413-499d-9930-41ba89620c78",
   "metadata": {},
   "outputs": [],
   "source": [
    "!git remote add origin git@github.com:jwnior15/Module2Project.git"
   ]
  },
  {
   "cell_type": "code",
   "execution_count": 19,
   "id": "400b0a59-727c-4acd-ab78-4b85432a3693",
   "metadata": {},
   "outputs": [
    {
     "name": "stderr",
     "output_type": "stream",
     "text": [
      "remote: \n",
      "remote: Create a pull request for 'master' on GitHub by visiting:        \n",
      "remote:      https://github.com/jwnior15/Module2Project/pull/new/master        \n",
      "remote: \n",
      "To github.com:jwnior15/Module2Project.git\n",
      " * [new branch]      master -> master\n"
     ]
    }
   ],
   "source": [
    "!git push origin master"
   ]
  },
  {
   "cell_type": "code",
   "execution_count": 21,
   "id": "4f6e12de-2fd5-47c1-8bf6-85324529b0f2",
   "metadata": {},
   "outputs": [
    {
     "name": "stdout",
     "output_type": "stream",
     "text": [
      "Initialized DVC repository.\n",
      "\n",
      "You can now commit the changes to git.\n",
      "\n",
      "+---------------------------------------------------------------------+\n",
      "|                                                                     |\n",
      "|        DVC has enabled anonymous aggregate usage analytics.         |\n",
      "|     Read the analytics documentation (and how to opt-out) here:     |\n",
      "|             <https://dvc.org/doc/user-guide/analytics>              |\n",
      "|                                                                     |\n",
      "+---------------------------------------------------------------------+\n",
      "\n",
      "What's next?\n",
      "------------\n",
      "- Check out the documentation: <https://dvc.org/doc>\n",
      "- Get help and share ideas: <https://dvc.org/chat>\n",
      "- Star us on GitHub: <https://github.com/iterative/dvc>\n"
     ]
    }
   ],
   "source": [
    "# Inicializar repositorio\n",
    "!dvc init"
   ]
  },
  {
   "cell_type": "code",
   "execution_count": 22,
   "id": "263a2e46-9833-414c-9fee-583865f4dbf9",
   "metadata": {},
   "outputs": [
    {
     "name": "stdout",
     "output_type": "stream",
     "text": [
      "\n",
      "To track the changes with git, run:\n",
      "\n",
      "\tgit add dataset.dvc\n",
      "\n",
      "To enable auto staging, run:\n",
      "\n",
      "\tdvc config core.autostage true\n"
     ]
    },
    {
     "name": "stderr",
     "output_type": "stream",
     "text": [
      "\\u280b Checking graph\n",
      "\n"
     ]
    }
   ],
   "source": [
    "# Añadir la carpeta con los datos al repositorio dvc con el comando\n",
    "!dvc add dataset"
   ]
  },
  {
   "cell_type": "code",
   "execution_count": 23,
   "id": "c93b08d3-5672-45d5-b31a-a965a1e6273e",
   "metadata": {},
   "outputs": [
    {
     "name": "stdout",
     "output_type": "stream",
     "text": [
      "Setting 'myremote' as a default remote.\n"
     ]
    }
   ],
   "source": [
    "# Agregar un repositorio remoto por defecto en la carpeta con codigo 0AIac4JZqHhKmUk9PDA en Google Drive\n",
    "# Este codigo (ID) es parte de la url de nuestra carpeta en GDrive\n",
    "!dvc remote add --default -f myremote gdrive://1dxoGvnoD2xv2TRxxobHEANtWbIAMoAD5"
   ]
  },
  {
   "cell_type": "code",
   "execution_count": 24,
   "id": "895d136c-f274-4cd4-9e5a-27e5f929f3a4",
   "metadata": {},
   "outputs": [],
   "source": [
    "# Evitar errores de seguridad\n",
    "!dvc remote modify myremote gdrive_acknowledge_abuse true"
   ]
  },
  {
   "cell_type": "code",
   "execution_count": null,
   "id": "9b370fd2-ad36-463d-9483-9e9b85d96029",
   "metadata": {},
   "outputs": [],
   "source": [
    "# Sincronizar nuestro dataset\n",
    "!dvc push"
   ]
  },
  {
   "cell_type": "markdown",
   "id": "f5be4fe7-6f94-4c01-b35a-44e7d8dd745c",
   "metadata": {},
   "source": [
    "Usaremos `git` para crear una nueva versión del dataset. `git` guardará los archivos específicos de `dvc` del commit con el tag determinado."
   ]
  },
  {
   "cell_type": "code",
   "execution_count": null,
   "id": "2dc86b13-6552-43c3-9146-8c76f66e7e0e",
   "metadata": {},
   "outputs": [],
   "source": [
    "!git add .\n",
    "!git commit -m \"Añadiendo DVC\"\n",
    "!git tag -a v0 -m \"Version 0\"\n",
    "!git push origin master --tags"
   ]
  },
  {
   "cell_type": "markdown",
   "id": "c285b478-dd28-4ea7-83f0-7ffb34d63ce1",
   "metadata": {},
   "source": [
    "En este punto, cualquiera con acceso al repositorio de `git` y con las credenciales necesarias de `Gdrive` podrá acceder al dataset y a todas sus versiones de manera sencilla y remota para usarlo para entrenar modelos o modificarlo y crear nuevas versiones. Simplemente, usando el siguiente comando:"
   ]
  },
  {
   "cell_type": "code",
   "execution_count": null,
   "id": "9eaec07c-3629-44ac-8ce0-26d96bf8e96e",
   "metadata": {},
   "outputs": [],
   "source": []
  },
  {
   "cell_type": "code",
   "execution_count": null,
   "id": "6b50ae8c-7150-4996-a235-c3ab5a3f9a9b",
   "metadata": {},
   "outputs": [],
   "source": []
  },
  {
   "cell_type": "code",
   "execution_count": null,
   "id": "6d6d1ee7-563a-4821-a9c3-09113df5d85f",
   "metadata": {},
   "outputs": [],
   "source": []
  },
  {
   "cell_type": "code",
   "execution_count": null,
   "id": "5f3f01d5-a62c-45c3-9338-7e27056b6e99",
   "metadata": {},
   "outputs": [],
   "source": []
  },
  {
   "cell_type": "code",
   "execution_count": null,
   "id": "973e3365-d9b9-4f4c-ad3d-1065faca424d",
   "metadata": {},
   "outputs": [],
   "source": []
  },
  {
   "cell_type": "code",
   "execution_count": null,
   "id": "2b157944-2eb0-46f3-9b94-3beae2633534",
   "metadata": {},
   "outputs": [],
   "source": []
  }
 ],
 "metadata": {
  "kernelspec": {
   "display_name": "Python 3 (ipykernel)",
   "language": "python",
   "name": "python3"
  },
  "language_info": {
   "codemirror_mode": {
    "name": "ipython",
    "version": 3
   },
   "file_extension": ".py",
   "mimetype": "text/x-python",
   "name": "python",
   "nbconvert_exporter": "python",
   "pygments_lexer": "ipython3",
   "version": "3.10.13"
  }
 },
 "nbformat": 4,
 "nbformat_minor": 5
}
