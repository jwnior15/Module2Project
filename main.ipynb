{
 "cells": [
  {
   "cell_type": "markdown",
   "id": "6012cbd1-4532-427d-a35f-d2e05ba5a73a",
   "metadata": {},
   "source": [
    "# 1. Importación de los módulos y paquetes necesarios\n",
    "En este primer apartado importaremos las funciones y paquetes que anteriormente hemos trabajado.\n",
    "Las funciones son para la manipulación de la base de datos que tenemos y una interfaz por la cual interectuaremos con el dataset."
   ]
  },
  {
   "cell_type": "code",
   "execution_count": 1,
   "id": "e8e04a12-02bb-49ad-a9fc-9370fa1416e4",
   "metadata": {},
   "outputs": [],
   "source": [
    "from gestion_metadatos import *\n",
    "from interfaz import main"
   ]
  },
  {
   "cell_type": "markdown",
   "id": "15204251-2f45-4ae9-9c76-c975e46372e2",
   "metadata": {},
   "source": [
    "# 2. Exploración de Datos\n",
    "En esta sección cargamos y visulizamos los datos para entender su estructura."
   ]
  },
  {
   "cell_type": "code",
   "execution_count": 2,
   "id": "cad5ed04-9e87-4e2e-b1de-89b546e7e45b",
   "metadata": {},
   "outputs": [
    {
     "data": {
      "text/html": [
       "<div>\n",
       "<style scoped>\n",
       "    .dataframe tbody tr th:only-of-type {\n",
       "        vertical-align: middle;\n",
       "    }\n",
       "\n",
       "    .dataframe tbody tr th {\n",
       "        vertical-align: top;\n",
       "    }\n",
       "\n",
       "    .dataframe thead th {\n",
       "        text-align: right;\n",
       "    }\n",
       "</style>\n",
       "<table border=\"1\" class=\"dataframe\">\n",
       "  <thead>\n",
       "    <tr style=\"text-align: right;\">\n",
       "      <th></th>\n",
       "      <th>FILE NAME</th>\n",
       "      <th>FORMAT</th>\n",
       "      <th>SIZE</th>\n",
       "      <th>URL</th>\n",
       "    </tr>\n",
       "  </thead>\n",
       "  <tbody>\n",
       "    <tr>\n",
       "      <th>0</th>\n",
       "      <td>COVID-1</td>\n",
       "      <td>PNG</td>\n",
       "      <td>256*256</td>\n",
       "      <td>https://sirm.org/category/senza-categoria/covi...</td>\n",
       "    </tr>\n",
       "    <tr>\n",
       "      <th>1</th>\n",
       "      <td>COVID-2</td>\n",
       "      <td>PNG</td>\n",
       "      <td>256*256</td>\n",
       "      <td>https://sirm.org/category/senza-categoria/covi...</td>\n",
       "    </tr>\n",
       "    <tr>\n",
       "      <th>2</th>\n",
       "      <td>COVID-3</td>\n",
       "      <td>PNG</td>\n",
       "      <td>256*256</td>\n",
       "      <td>https://sirm.org/category/senza-categoria/covi...</td>\n",
       "    </tr>\n",
       "    <tr>\n",
       "      <th>3</th>\n",
       "      <td>COVID-4</td>\n",
       "      <td>PNG</td>\n",
       "      <td>256*256</td>\n",
       "      <td>https://sirm.org/category/senza-categoria/covi...</td>\n",
       "    </tr>\n",
       "    <tr>\n",
       "      <th>4</th>\n",
       "      <td>COVID-5</td>\n",
       "      <td>PNG</td>\n",
       "      <td>256*256</td>\n",
       "      <td>https://sirm.org/category/senza-categoria/covi...</td>\n",
       "    </tr>\n",
       "  </tbody>\n",
       "</table>\n",
       "</div>"
      ],
      "text/plain": [
       "  FILE NAME FORMAT     SIZE                                                URL\n",
       "0   COVID-1    PNG  256*256  https://sirm.org/category/senza-categoria/covi...\n",
       "1   COVID-2    PNG  256*256  https://sirm.org/category/senza-categoria/covi...\n",
       "2   COVID-3    PNG  256*256  https://sirm.org/category/senza-categoria/covi...\n",
       "3   COVID-4    PNG  256*256  https://sirm.org/category/senza-categoria/covi...\n",
       "4   COVID-5    PNG  256*256  https://sirm.org/category/senza-categoria/covi..."
      ]
     },
     "execution_count": 2,
     "metadata": {},
     "output_type": "execute_result"
    }
   ],
   "source": [
    "# Carga de datos\n",
    "df = pd.read_excel('./dataset/covid_19_radiography/COVID-19_Radiography_Dataset/COVID.metadata.xlsx')\n",
    "df.head()"
   ]
  },
  {
   "cell_type": "code",
   "execution_count": 3,
   "id": "9d5c66eb-418a-4c94-b05f-f6471006f08a",
   "metadata": {},
   "outputs": [
    {
     "name": "stdout",
     "output_type": "stream",
     "text": [
      "\n",
      "Menú Principal\n",
      "1. Agregar Nueva Imagen y Metadatos\n",
      "2. Actualizar Metadatos de Imagen\n",
      "3. Eliminar Imagen y Metadatos\n",
      "4. Mostrar Metadatos de Imagen\n",
      "5. Salir\n"
     ]
    },
    {
     "name": "stdin",
     "output_type": "stream",
     "text": [
      "Seleccione una opción:  4\n",
      "Ingrese el nombre del archivo de la imagen a mostrar:  COVID-7\n"
     ]
    },
    {
     "name": "stdout",
     "output_type": "stream",
     "text": [
      "  FILE NAME FORMAT     SIZE                                                URL\n",
      "6   COVID-7    PNG  256*256  https://sirm.org/category/senza-categoria/covi...\n",
      "\n",
      "Menú Principal\n",
      "1. Agregar Nueva Imagen y Metadatos\n",
      "2. Actualizar Metadatos de Imagen\n",
      "3. Eliminar Imagen y Metadatos\n",
      "4. Mostrar Metadatos de Imagen\n",
      "5. Salir\n"
     ]
    },
    {
     "name": "stdin",
     "output_type": "stream",
     "text": [
      "Seleccione una opción:  5\n"
     ]
    },
    {
     "name": "stdout",
     "output_type": "stream",
     "text": [
      "Saliendo del programa.\n"
     ]
    }
   ],
   "source": [
    "main()"
   ]
  },
  {
   "cell_type": "code",
   "execution_count": null,
   "id": "2b67db64-54d5-42d7-b219-3bb30f2c767b",
   "metadata": {},
   "outputs": [],
   "source": []
  }
 ],
 "metadata": {
  "kernelspec": {
   "display_name": "Python 3 (ipykernel)",
   "language": "python",
   "name": "python3"
  },
  "language_info": {
   "codemirror_mode": {
    "name": "ipython",
    "version": 3
   },
   "file_extension": ".py",
   "mimetype": "text/x-python",
   "name": "python",
   "nbconvert_exporter": "python",
   "pygments_lexer": "ipython3",
   "version": "3.10.13"
  }
 },
 "nbformat": 4,
 "nbformat_minor": 5
}
